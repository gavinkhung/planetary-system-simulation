{
 "cells": [
  {
   "cell_type": "code",
   "execution_count": 1,
   "metadata": {},
   "outputs": [],
   "source": [
    "import numpy as np\n",
    "import matplotlib.pyplot as plt\n",
    "\n",
    "from astropy import units as u\n",
    "from astroquery import open_exoplanet_catalogue as oec\n",
    "from astroquery.open_exoplanet_catalogue import findvalue\n",
    "\n",
    "import rebound"
   ]
  },
  {
   "cell_type": "code",
   "execution_count": 2,
   "metadata": {},
   "outputs": [],
   "source": [
    "# Catalog of exoplanets: http://openexoplanetcatalogue.com/systems/\n",
    "star_name = 'KOI-142'\n",
    "exoplanet_names = ['KOI-142 b', 'KOI-142 c']"
   ]
  },
  {
   "cell_type": "code",
   "execution_count": 3,
   "metadata": {},
   "outputs": [],
   "source": [
    "cata = oec.get_catalogue()\n",
    "star_data = cata.find(f\".//star[name='{star_name}']\")\n",
    "exoplanets_data = []\n",
    "for exoplanet_name in exoplanet_names:\n",
    "    exoplanets_data.append(cata.find(f\".//planet[name='{exoplanet_name}']\"))"
   ]
  },
  {
   "cell_type": "code",
   "execution_count": 4,
   "metadata": {},
   "outputs": [
    {
     "name": "stdout",
     "output_type": "stream",
     "text": [
      "mass 0.0055264 +/-0.0055264\n",
      "period 10.9542 +0.00143 -6.4e-05\n",
      "semimajoraxis 0.098\n",
      "ascendingnode 270.0\n",
      "eccentricity 0.0561 +0.00052 -0.00121\n",
      "meananomaly None\n",
      "inclination 0.931 +0.088 -0.079\n"
     ]
    }
   ],
   "source": [
    "if len(exoplanets_data) > 0:\n",
    "    # fields: https://github.com/OpenExoplanetCatalogue/open_exoplanet_catalogue/\n",
    "    print('mass', findvalue(exoplanets_data[0], 'mass'))\n",
    "    print('period', findvalue(exoplanets_data[0], 'period'))\n",
    "    print('semimajoraxis', findvalue(exoplanets_data[0], 'semimajoraxis'))\n",
    "    print('ascendingnode', findvalue(exoplanets_data[0], 'ascendingnode'))\n",
    "    print('eccentricity', findvalue(exoplanets_data[0], 'eccentricity'))\n",
    "    print('meananomaly', findvalue(exoplanets_data[0], 'meananomaly'))\n",
    "    print('inclination', findvalue(exoplanets_data[0], 'inclination'))"
   ]
  },
  {
   "cell_type": "code",
   "execution_count": 5,
   "metadata": {},
   "outputs": [],
   "source": [
    "def to_radians(value):\n",
    "    if value==None:\n",
    "        return 0\n",
    "    return (value*u.deg).to(u.rad).value\n",
    "\n",
    "def mjupiter_to_msun(mjupiter):\n",
    "    if mjupiter==None:\n",
    "        return 0\n",
    "    return mjupiter*0.000950000000475\n",
    "\n",
    "def day_to_year(day):\n",
    "    if day==None:\n",
    "        return 0\n",
    "    return day/365"
   ]
  },
  {
   "cell_type": "code",
   "execution_count": 6,
   "metadata": {},
   "outputs": [],
   "source": [
    "sim = rebound.Simulation()\n",
    "sim.units = ('yr', 'AU', 'Msun')"
   ]
  },
  {
   "cell_type": "code",
   "execution_count": 7,
   "metadata": {},
   "outputs": [],
   "source": [
    "sim.add(m=findvalue(star_data, 'mass'))"
   ]
  },
  {
   "cell_type": "code",
   "execution_count": 8,
   "metadata": {},
   "outputs": [
    {
     "name": "stdout",
     "output_type": "stream",
     "text": [
      "KOI-142 b\n",
      "KOI-142 c\n"
     ]
    }
   ],
   "source": [
    "for exoplanet_data in exoplanets_data:\n",
    "    # https://rebound.readthedocs.io/en/doctest/python_api.html#rebound.Orbit\n",
    "    \n",
    "    mass = mjupiter_to_msun(findvalue(exoplanet_data, 'mass')) or 0\n",
    "    # P = day_to_year(findvalue(exoplanet_data, 'period')) or 0\n",
    "    semi_major_axis = findvalue(exoplanet_data, 'semimajoraxis') or 0\n",
    "    argument_of_periapsis = to_radians(findvalue(exoplanet_data, 'periastron')) or 0\n",
    "    longitude_of_ascending_node = to_radians(findvalue(exoplanet_data, 'ascendingnode')) or 0\n",
    "    eccentricity = findvalue(exoplanet_data, 'eccentricity') or 0\n",
    "    f = findvalue(exoplanet_data, 'meananomaly') or 0\n",
    "    inclination = to_radians(findvalue(exoplanet_data, 'inclination')) or 0\n",
    "    \n",
    "    sim.add(m=mass, a=semi_major_axis, e=eccentricity, omega=argument_of_periapsis, Omega=longitude_of_ascending_node, inc=inclination, f=f)\n",
    "    \n",
    "    print(findvalue(exoplanet_data, 'name'))"
   ]
  },
  {
   "cell_type": "code",
   "execution_count": 9,
   "metadata": {},
   "outputs": [
    {
     "data": {
      "text/plain": [
       "<Figure size 432x288 with 0 Axes>"
      ]
     },
     "metadata": {},
     "output_type": "display_data"
    },
    {
     "data": {
      "image/png": "[encoded data removed]",
      "text/plain": [
       "<Figure size 360x360 with 1 Axes>"
      ]
     },
     "metadata": {
      "needs_background": "light"
     },
     "output_type": "display_data"
    }
   ],
   "source": [
    "plt.figure()\n",
    "fig = rebound.OrbitPlot(sim, unitlabel=\"[AU]\", periastron=True, color=True, lw=2)\n",
    "plt.title(f\"{star_name} system\")\n",
    "plt.show()"
   ]
  }
 ],
 "metadata": {
  "kernelspec": {
   "display_name": "sra",
   "language": "python",
   "name": "sra"
  },
  "language_info": {
   "codemirror_mode": {
    "name": "ipython",
    "version": 3
   },
   "file_extension": ".py",
   "mimetype": "text/x-python",
   "name": "python",
   "nbconvert_exporter": "python",
   "pygments_lexer": "ipython3",
   "version": "3.9.5"
  }
 },
 "nbformat": 4,
 "nbformat_minor": 2
}
