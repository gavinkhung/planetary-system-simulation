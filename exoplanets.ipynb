{
 "cells": [
  {
   "cell_type": "code",
   "execution_count": 1,
   "metadata": {},
   "outputs": [],
   "source": [
    "import numpy as np\n",
    "import matplotlib.pyplot as plt\n",
    "\n",
    "from astroquery import open_exoplanet_catalogue as oec\n",
    "from astroquery.open_exoplanet_catalogue import findvalue\n",
    "\n",
    "import rebound"
   ]
  },
  {
   "cell_type": "code",
   "execution_count": 2,
   "metadata": {},
   "outputs": [],
   "source": [
    "# Catalog of exoplanets: http://openexoplanetcatalogue.com/systems/\n",
    "star_name = 'KOI-142'\n",
    "exoplanet_names = ['KOI-142 b', 'KOI-142 c']"
   ]
  },
  {
   "cell_type": "code",
   "execution_count": 3,
   "metadata": {},
   "outputs": [],
   "source": [
    "cata = oec.get_catalogue()\n",
    "star_data = cata.find(f\".//star[name='{star_name}']\")\n",
    "exoplanets_data = []\n",
    "for exoplanet_name in exoplanet_names:\n",
    "    exoplanets_data.append(cata.find(f\".//planet[name='{exoplanet_name}']\"))"
   ]
  },
  {
   "cell_type": "code",
   "execution_count": 4,
   "metadata": {},
   "outputs": [
    {
     "name": "stdout",
     "output_type": "stream",
     "text": [
      "mass 0.0055264 +/-0.0055264\n",
      "period 10.9542 +0.00143 -6.4e-05\n",
      "semimajoraxis 0.098\n",
      "ascendingnode 270.0\n",
      "eccentricity 0.0561 +0.00052 -0.00121\n",
      "meananomaly None\n",
      "inclination 0.931 +0.088 -0.079\n"
     ]
    }
   ],
   "source": [
    "if len(exoplanets_data) > 0:\n",
    "    # fields: https://github.com/OpenExoplanetCatalogue/open_exoplanet_catalogue/\n",
    "    print('mass', findvalue(exoplanets_data[0], 'mass'))\n",
    "    print('period', findvalue(exoplanets_data[0], 'period'))\n",
    "    print('semimajoraxis', findvalue(exoplanets_data[0], 'semimajoraxis'))\n",
    "    print('ascendingnode', findvalue(exoplanets_data[0], 'ascendingnode'))\n",
    "    print('eccentricity', findvalue(exoplanets_data[0], 'eccentricity'))\n",
    "    print('meananomaly', findvalue(exoplanets_data[0], 'meananomaly'))\n",
    "    print('inclination', findvalue(exoplanets_data[0], 'inclination'))"
   ]
  }
 ],
 "metadata": {
  "kernelspec": {
   "display_name": "sra",
   "language": "python",
   "name": "sra"
  },
  "language_info": {
   "codemirror_mode": {
    "name": "ipython",
    "version": 3
   },
   "file_extension": ".py",
   "mimetype": "text/x-python",
   "name": "python",
   "nbconvert_exporter": "python",
   "pygments_lexer": "ipython3",
   "version": "3.9.5"
  }
 },
 "nbformat": 4,
 "nbformat_minor": 2
}
